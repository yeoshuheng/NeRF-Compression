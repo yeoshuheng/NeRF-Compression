{
 "cells": [
  {
   "cell_type": "code",
   "execution_count": 1,
   "metadata": {},
   "outputs": [],
   "source": [
    "import src.main as lc\n",
    "import torch, os\n",
    "\n",
    "# Filepaths\n",
    "HHD = \"/volumes/Ultra Touch\"\n",
    "MLP_LOC = HHD + \"/MLP/LC_test\"\n",
    "COMPRESSED_SAVELOC = HHD + \"/MLP/Compressed\"\n",
    "DECOMPRESSED_SAVELOC = HHD + \"/MLP/Decompressed_test\"\n",
    "\n",
    "# Base dictionary (for decompressor to understand structure of the model)\n",
    "BASE_DICT = torch.load(MLP_LOC + \"/frame0.tar\", map_location = torch.device('cpu'))[\"network_fn_state_dict\"]"
   ]
  },
  {
   "cell_type": "markdown",
   "metadata": {},
   "source": [
    "# 1. Compression of MLP model set"
   ]
  },
  {
   "cell_type": "code",
   "execution_count": 2,
   "metadata": {},
   "outputs": [
    {
     "name": "stdout",
     "output_type": "stream",
     "text": [
      "Loading: /volumes/Ultra Touch/MLP/LC_test/frame0.tar\n",
      "Delta Compression on: frame1.tar\n",
      "Loading: /volumes/Ultra Touch/MLP/LC_test/frame1.tar\n",
      "Delta Compression on: frame2.tar\n",
      "Loading: /volumes/Ultra Touch/MLP/LC_test/frame2.tar\n",
      "Delta Compression on: frame3.tar\n",
      "Loading: /volumes/Ultra Touch/MLP/LC_test/frame3.tar\n",
      "Delta Compression on: frame4.tar\n",
      "Loading: /volumes/Ultra Touch/MLP/LC_test/frame4.tar\n",
      "Saving Compressed Format: frame0.tar\n",
      "Saving Compressed Format: frame1.tar\n",
      "Saving Compressed Format: frame2.tar\n",
      "Saving Compressed Format: frame3.tar\n",
      "Saving Compressed Format: frame4.tar\n"
     ]
    }
   ],
   "source": [
    "lc.compress_set(MLP_LOC, COMPRESSED_SAVELOC)"
   ]
  },
  {
   "cell_type": "markdown",
   "metadata": {},
   "source": [
    "# 2. Decompression from Compressed Set"
   ]
  },
  {
   "cell_type": "code",
   "execution_count": 3,
   "metadata": {},
   "outputs": [
    {
     "name": "stdout",
     "output_type": "stream",
     "text": [
      "Decompressing for: compressed_frame0.pt\n",
      "Decompressing for: compressed_frame1.pt\n",
      "Decompressing for: compressed_frame2.pt\n",
      "Decompressing for: compressed_frame3.pt\n",
      "Decompressing for: compressed_frame4.pt\n",
      "Saving Decompressed Model at: decompressed_frame0.pt\n",
      "Saving Decompressed Model at: decompressed_frame1.pt\n",
      "Saving Decompressed Model at: decompressed_frame2.pt\n",
      "Saving Decompressed Model at: decompressed_frame3.pt\n",
      "Saving Decompressed Model at: decompressed_frame4.pt\n"
     ]
    }
   ],
   "source": [
    "lc.load_compressed_set(COMPRESSED_SAVELOC, DECOMPRESSED_SAVELOC, BASE_DICT)"
   ]
  },
  {
   "cell_type": "markdown",
   "metadata": {},
   "source": [
    "# 3. Testing Random Weights in decompressed MLP"
   ]
  },
  {
   "cell_type": "code",
   "execution_count": 8,
   "metadata": {},
   "outputs": [],
   "source": [
    "frame_no = 3\n",
    "original = torch.load(MLP_LOC + \"/frame{}.tar\".format(frame_no), map_location = torch.device('cpu'))[\"network_fn_state_dict\"]\n",
    "compressed = lc.read_decompressed_state_dict(DECOMPRESSED_SAVELOC + \"/decompressed_frame{}.pt\".format(frame_no))"
   ]
  },
  {
   "cell_type": "code",
   "execution_count": 19,
   "metadata": {},
   "outputs": [
    {
     "data": {
      "text/plain": [
       "tensor([-0.1713, -0.1642, -0.0814, -0.1256, -0.0692, -0.1202, -0.0272,  0.0780,\n",
       "         0.1156, -0.0341])"
      ]
     },
     "execution_count": 19,
     "metadata": {},
     "output_type": "execute_result"
    }
   ],
   "source": [
    "original['pts_linears.1.weight'][2][10:20]"
   ]
  },
  {
   "cell_type": "code",
   "execution_count": 20,
   "metadata": {},
   "outputs": [
    {
     "data": {
      "text/plain": [
       "tensor([-0.1419, -0.1430, -0.0833, -0.1399, -0.0644, -0.1347, -0.0267,  0.0944,\n",
       "         0.1023, -0.0290])"
      ]
     },
     "execution_count": 20,
     "metadata": {},
     "output_type": "execute_result"
    }
   ],
   "source": [
    "compressed['pts_linears.1.weight'][2][10:20]"
   ]
  },
  {
   "cell_type": "code",
   "execution_count": 14,
   "metadata": {},
   "outputs": [],
   "source": [
    "frame_no = 1\n",
    "original = torch.load(MLP_LOC + \"/frame{}.tar\".format(frame_no), map_location = torch.device('cpu'))[\"network_fn_state_dict\"]\n",
    "compressed = lc.read_decompressed_state_dict(DECOMPRESSED_SAVELOC + \"/decompressed_frame{}.pt\".format(frame_no))"
   ]
  },
  {
   "cell_type": "code",
   "execution_count": 17,
   "metadata": {},
   "outputs": [
    {
     "data": {
      "text/plain": [
       "tensor([-0.2480, -0.2322,  0.0630, -0.1238, -0.0873,  0.1134,  0.1539,  0.0085,\n",
       "         0.0692, -0.0862])"
      ]
     },
     "execution_count": 17,
     "metadata": {},
     "output_type": "execute_result"
    }
   ],
   "source": [
    "original['pts_linears.1.weight'][4][5:15]"
   ]
  },
  {
   "cell_type": "code",
   "execution_count": 18,
   "metadata": {},
   "outputs": [
    {
     "data": {
      "text/plain": [
       "tensor([-0.1702, -0.2176,  0.0619, -0.1270, -0.0907,  0.1337,  0.1742,  0.0024,\n",
       "         0.0702, -0.0826])"
      ]
     },
     "execution_count": 18,
     "metadata": {},
     "output_type": "execute_result"
    }
   ],
   "source": [
    "compressed['pts_linears.1.weight'][4][5:15]"
   ]
  },
  {
   "cell_type": "markdown",
   "metadata": {},
   "source": [
    "# 4. Compression Ratio"
   ]
  },
  {
   "cell_type": "code",
   "execution_count": 7,
   "metadata": {},
   "outputs": [
    {
     "name": "stdout",
     "output_type": "stream",
     "text": [
      "Compression Ratio:\n",
      "0.94242\n"
     ]
    }
   ],
   "source": [
    "uncompressed_size = sum(os.path.getsize(MLP_LOC + \"/\" + f) for f in os.listdir(MLP_LOC))\n",
    "compressed_size = sum(os.path.getsize(COMPRESSED_SAVELOC + \"/\" + f) for f in os.listdir(COMPRESSED_SAVELOC))\n",
    "print(\"Compression Ratio:\")\n",
    "print(round((uncompressed_size - compressed_size) / uncompressed_size, 5))"
   ]
  }
 ],
 "metadata": {
  "kernelspec": {
   "display_name": "Python 3",
   "language": "python",
   "name": "python3"
  },
  "language_info": {
   "codemirror_mode": {
    "name": "ipython",
    "version": 3
   },
   "file_extension": ".py",
   "mimetype": "text/x-python",
   "name": "python",
   "nbconvert_exporter": "python",
   "pygments_lexer": "ipython3",
   "version": "3.10.6"
  }
 },
 "nbformat": 4,
 "nbformat_minor": 2
}
